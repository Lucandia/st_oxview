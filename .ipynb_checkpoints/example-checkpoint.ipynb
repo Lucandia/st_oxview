{
 "cells": [
  {
   "cell_type": "code",
   "execution_count": 1,
   "metadata": {},
   "outputs": [
    {
     "data": {
      "text/html": [
       "\n",
       "    <html>\n",
       "      <body>\n",
       "        <div id=\"ipython-oxview-frame-1\"></div>\n",
       "        <script>     \n",
       "        // Define variables\n",
       "        let t_files = ['tmpbarvi9f6.pdb'];\n",
       "        let file_types = ['pdb'];\n",
       "        let width = 99%;\n",
       "        let height = 500;\n",
       "        let colormap = undefined;\n",
       "\n",
       "        // Define the handle function to be called after the iframe is loaded\n",
       "\n",
       "        function handle(t_files, file_types, frame_id, colormap) {\n",
       "            console.log(t_files);\n",
       "            console.log(file_types);\n",
       "            const inbox_settings = [\"Monomer\", \"Origin\"];\n",
       "            // const frame_id = \"1\";\n",
       "            const t_blobs = [];\n",
       "\n",
       "            for (let i = 0; i < t_files.length; i++) {\n",
       "            let f = new XMLHttpRequest();\n",
       "            f.open(\"GET\", t_files[i], false);\n",
       "            f.onreadystatechange = function () {\n",
       "                t_blobs.push(\n",
       "                new Blob([f.responseText], { type: \"text/plain\" })\n",
       "                );\n",
       "            };\n",
       "            f.send(null);\n",
       "            }\n",
       "\n",
       "            const frame = document.getElementById(\"oxview-frame-\" + frame_id);\n",
       "            console.log(frame);\n",
       "            frame.contentWindow.postMessage({\n",
       "            message: \"iframe_drop\",\n",
       "            files: t_blobs,\n",
       "            ext: file_types,\n",
       "            inbox_settings: inbox_settings,\n",
       "            });\n",
       "\n",
       "            \n",
       "            if (colormap !== undefined) {\n",
       "            frame.contentWindow.api?.changeColormap(colormap);\n",
       "            }\n",
       "        }\n",
       "\n",
       "\n",
       "        oxview_frame.innerHTML =\n",
       "          '<iframe width=\"' +\n",
       "          99% +\n",
       "          '\" height=\"' +\n",
       "          500 +\n",
       "          '\" src=\"/var/folders/cm/22tc2kjn4_11c9tq7ppnc9z00000gq/T/tmp9p_wo00u_st_oxview/oxview_component/oxview_src/index.html\" id=\"oxview-frame-1\"></iframe>';\n",
       "\n",
       "        // Call handle function after the iframe is loaded\n",
       "        document.getElementById(\"oxview-frame-\" + frame_id).onload = function () {\n",
       "          handle(t_files, file_types, frame_id, colormap);\n",
       "        };\n",
       "        </script>\n",
       "        </div>\n",
       "      </body>\n",
       "    </html>\n",
       "        "
      ],
      "text/plain": [
       "<IPython.core.display.HTML object>"
      ]
     },
     "metadata": {},
     "output_type": "display_data"
    }
   ],
   "source": [
    "from st_oxview import ipython_from_file\n",
    "\n",
    "\n",
    "ipython_from_file(pdb='example_8btz.pdb')"
   ]
  },
  {
   "cell_type": "code",
   "execution_count": null,
   "metadata": {},
   "outputs": [],
   "source": []
  },
  {
   "cell_type": "code",
   "execution_count": null,
   "metadata": {},
   "outputs": [],
   "source": []
  }
 ],
 "metadata": {
  "kernelspec": {
   "display_name": "Python 3 (ipykernel)",
   "language": "python",
   "name": "python3"
  },
  "language_info": {
   "codemirror_mode": {
    "name": "ipython",
    "version": 3
   },
   "file_extension": ".py",
   "mimetype": "text/x-python",
   "name": "python",
   "nbconvert_exporter": "python",
   "pygments_lexer": "ipython3",
   "version": "3.12.4"
  }
 },
 "nbformat": 4,
 "nbformat_minor": 4
}
